{
 "cells": [
  {
   "cell_type": "code",
   "execution_count": 2,
   "metadata": {
    "collapsed": false
   },
   "outputs": [
   ],
   "source": [
    "import pandas as pd\n",
    "import numpy as np\n",
    "import matplotlib.pyplot as plt\n",
    "import seaborn as sbn\n",
    "%matplotlib inline\n",
    "\n",
    "df = pd.read_csv(\"master.csv\")\n",
    "\n",
    "df = df.sample(frac=1).reset_index(drop=True)\n",
    "df = df.sample(n = 10000, replace = True)"
   ]
  },
  {
   "cell_type": "code",
   "execution_count": 3,
   "metadata": {
    "collapsed": false
   },
   "outputs": [
   ],
   "source": [
    "del df['country-year']\n",
    "del df['HDI for year']\n",
    "del df['generation']\n",
    "\n",
    "df['age'] = df['age'].astype('category')\n",
    "df['age'] = df['age'].cat.codes\n",
    "df['sex'] = df['sex'].astype('category')\n",
    "df['sex'] = df['sex'].cat.codes\n",
    "df['country'] = df['country'].astype('category')\n",
    "df['country'] = df['country'].cat.codes\n",
    "df['year'] = df['year'].astype('category')\n",
    "df['year'] = df['year'].cat.codes"
   ]
  },
  {
   "cell_type": "code",
   "execution_count": 4,
   "metadata": {
    "collapsed": false
   },
   "outputs": [
    {
     "data": {
      "text/html": [
       "<div>\n",
       "<style scoped>\n",
       "    .dataframe tbody tr th:only-of-type {\n",
       "        vertical-align: middle;\n",
       "    }\n",
       "\n",
       "    .dataframe tbody tr th {\n",
       "        vertical-align: top;\n",
       "    }\n",
       "\n",
       "    .dataframe thead th {\n",
       "        text-align: right;\n",
       "    }\n",
       "</style>\n",
       "<table border=\"1\" class=\"dataframe\">\n",
       "  <thead>\n",
       "    <tr style=\"text-align: right;\">\n",
       "      <th></th>\n",
       "      <th>country</th>\n",
       "      <th>year</th>\n",
       "      <th>sex</th>\n",
       "      <th>age</th>\n",
       "      <th>suicides_no</th>\n",
       "      <th>population</th>\n",
       "      <th>suicides/100k pop</th>\n",
       "      <th>gdp_for_year ($)</th>\n",
       "      <th>gdp_per_capita ($)</th>\n",
       "    </tr>\n",
       "  </thead>\n",
       "  <tbody>\n",
       "    <tr>\n",
       "      <th>1490</th>\n",
       "      <td>42</td>\n",
       "      <td>27</td>\n",
       "      <td>1</td>\n",
       "      <td>2</td>\n",
       "      <td>192</td>\n",
       "      <td>641319</td>\n",
       "      <td>29.94</td>\n",
       "      <td>225,571,853,194</td>\n",
       "      <td>53443</td>\n",
       "    </tr>\n",
       "    <tr>\n",
       "      <th>14676</th>\n",
       "      <td>88</td>\n",
       "      <td>15</td>\n",
       "      <td>0</td>\n",
       "      <td>3</td>\n",
       "      <td>0</td>\n",
       "      <td>48558</td>\n",
       "      <td>0.00</td>\n",
       "      <td>892,164,394</td>\n",
       "      <td>2129</td>\n",
       "    </tr>\n",
       "    <tr>\n",
       "      <th>25988</th>\n",
       "      <td>41</td>\n",
       "      <td>30</td>\n",
       "      <td>1</td>\n",
       "      <td>1</td>\n",
       "      <td>6</td>\n",
       "      <td>24128</td>\n",
       "      <td>24.87</td>\n",
       "      <td>16,942,247,374</td>\n",
       "      <td>54909</td>\n",
       "    </tr>\n",
       "    <tr>\n",
       "      <th>5855</th>\n",
       "      <td>11</td>\n",
       "      <td>8</td>\n",
       "      <td>1</td>\n",
       "      <td>0</td>\n",
       "      <td>175</td>\n",
       "      <td>723100</td>\n",
       "      <td>24.20</td>\n",
       "      <td>16,280,991,736</td>\n",
       "      <td>1689</td>\n",
       "    </tr>\n",
       "    <tr>\n",
       "      <th>24346</th>\n",
       "      <td>12</td>\n",
       "      <td>0</td>\n",
       "      <td>0</td>\n",
       "      <td>0</td>\n",
       "      <td>33</td>\n",
       "      <td>744100</td>\n",
       "      <td>4.43</td>\n",
       "      <td>86,730,038,793</td>\n",
       "      <td>9356</td>\n",
       "    </tr>\n",
       "  </tbody>\n",
       "</table>\n",
       "</div>"
      ],
      "text/plain": [
       "       country  year  sex  age  suicides_no  population  suicides/100k pop  \\\n",
       "1490        42    27    1    2          192      641319              29.94   \n",
       "14676       88    15    0    3            0       48558               0.00   \n",
       "25988       41    30    1    1            6       24128              24.87   \n",
       "5855        11     8    1    0          175      723100              24.20   \n",
       "24346       12     0    0    0           33      744100               4.43   \n",
       "\n",
       "       gdp_for_year ($)   gdp_per_capita ($)  \n",
       "1490     225,571,853,194               53443  \n",
       "14676        892,164,394                2129  \n",
       "25988     16,942,247,374               54909  \n",
       "5855      16,280,991,736                1689  \n",
       "24346     86,730,038,793                9356  "
      ]
     },
     "execution_count": 4,
     "metadata": {
     },
     "output_type": "execute_result"
    }
   ],
   "source": [
    "df.head()"
   ]
  },
  {
   "cell_type": "code",
   "execution_count": 5,
   "metadata": {
    "collapsed": false
   },
   "outputs": [
   ],
   "source": [
    "population = df.loc[:, 'population']\n",
    "year = df.loc[:, 'year']\n",
    "country = df.loc[:, 'country']\n",
    "sex = df.loc[:, 'sex']\n",
    "age = df.loc[:, 'age']\n",
    "population = df.loc[:, 'population']\n",
    "gfy = df.loc[:, ' gdp_for_year ($) ']\n",
    "gpc = df.loc[:, 'gdp_per_capita ($)']\n",
    "suicides = df.loc[:, 'suicides/100k pop']"
   ]
  },
  {
   "cell_type": "code",
   "execution_count": 7,
   "metadata": {
    "collapsed": false
   },
   "outputs": [
    {
     "data": {
      "text/plain": [
       "<AxesSubplot:xlabel='Sex', ylabel='Suicides/100k pop'>"
      ]
     },
     "execution_count": 7,
     "metadata": {
     },
     "output_type": "execute_result"
    },
    {
     "data": {
      "image/png": "[encoded data removed]",
      "text/plain": [
       "<Figure size 432x288 with 1 Axes>"
      ]
     },
     "execution_count": 7,
     "metadata": {
      "image/png": {
       "height": 261,
       "width": 388
      },
      "needs_background": "light"
     },
     "output_type": "execute_result"
    }
   ],
   "source": [
    "df = pd.DataFrame({\"Sex\":sex, \"Suicides/100k pop\":suicides})\n",
    "sbn.boxplot(x = \"Sex\", y = \"Suicides/100k pop\", data=df)"
   ]
  },
  {
   "cell_type": "code",
   "execution_count": 0,
   "metadata": {
    "collapsed": false
   },
   "outputs": [
   ],
   "source": [
   ]
  }
 ],
 "metadata": {
  "kernelspec": {
   "display_name": "Python 3 (system-wide)",
   "language": "python",
   "metadata": {
    "cocalc": {
     "description": "Python 3 programming language",
     "priority": 100,
     "url": "https://www.python.org/"
    }
   },
   "name": "python3"
  },
  "language_info": {
   "codemirror_mode": {
    "name": "ipython",
    "version": 3
   },
   "file_extension": ".py",
   "mimetype": "text/x-python",
   "name": "python",
   "nbconvert_exporter": "python",
   "pygments_lexer": "ipython3",
   "version": "3.8.5"
  }
 },
 "nbformat": 4,
 "nbformat_minor": 4
}